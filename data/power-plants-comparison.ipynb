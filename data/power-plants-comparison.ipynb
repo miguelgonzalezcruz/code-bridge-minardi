{
 "cells": [
  {
   "cell_type": "markdown",
   "id": "e10d8933-2d82-485f-b18e-53e803d72652",
   "metadata": {},
   "source": [
    "<div style='font-size: 32px; font-style: oblique; font-weight: bold'>\n",
    "    Fossil Fuel Plants vs. the Power of Nature\n",
    "    </div>"
   ]
  },
  {
   "cell_type": "markdown",
   "id": "788e1417-aa26-4419-85b4-ca28a05186e5",
   "metadata": {},
   "source": [
    "## *Imports*"
   ]
  },
  {
   "cell_type": "code",
   "execution_count": 1,
   "id": "93f014af-c2ec-4c10-afa0-34abd94ab010",
   "metadata": {},
   "outputs": [],
   "source": [
    "import pandas as pd\n",
    "import numpy as np\n",
    "import re\n",
    "\n",
    "import warnings\n",
    "warnings.filterwarnings(\"ignore\")\n",
    "\n",
    "from sklearn.preprocessing import MinMaxScaler\n",
    "from scipy.stats import linregress"
   ]
  },
  {
   "cell_type": "markdown",
   "id": "70e13de7-9cff-4a31-894b-d7eb9354fbff",
   "metadata": {},
   "source": [
    "Read the data >> "
   ]
  },
  {
   "cell_type": "code",
   "execution_count": 2,
   "id": "afe712c1-2a50-4658-9e7f-60923ab65b37",
   "metadata": {},
   "outputs": [],
   "source": [
    "solar = pd.read_excel(\"Datasets/environment/Global-Solar-Power-Tracker-May-2022.xlsx\", sheet_name=1)\n",
    "wind = pd.read_excel(\"Datasets/environment/Global-Wind-Power-Tracker-May-2022.xlsx\", sheet_name=1)\n",
    "coal = pd.read_excel(\"Datasets/environment/Global-Coal-Plant-Tracker-July-2022.xlsx\", sheet_name=1)\n",
    "gas = pd.read_excel(\"Datasets/environment/Global-Gas-Plant-Tracker-July-2022.xlsx\", sheet_name=3)"
   ]
  },
  {
   "cell_type": "markdown",
   "id": "efb02531-26fa-499f-9742-4c7cc16ceab5",
   "metadata": {
    "tags": []
   },
   "source": [
    "**! IMPORTANT NOTES !**  \n",
    "\n",
    "\n",
    "- There are a lot of duplicates in this data and I don't know about its nature. I realized this too late so I couldn't dive into this issue: I had to submit the project.\n",
    "\n",
    "- I also didn't make proper notes because it was such a rush. I am sorry that anyone who will want to read through it will have to figure out what each line does on his own.  \n",
    "\n",
    "- Some part of this code wasn't used in the final version of the project."
   ]
  },
  {
   "cell_type": "markdown",
   "id": "83843e9e-9d09-416c-a59c-c5201b8fa47d",
   "metadata": {
    "tags": []
   },
   "source": [
    "# **Preprocessing**"
   ]
  },
  {
   "cell_type": "markdown",
   "id": "05df8d79-9c44-4739-8b00-c6e1a1d2baad",
   "metadata": {
    "tags": []
   },
   "source": [
    "### Solar"
   ]
  },
  {
   "cell_type": "code",
   "execution_count": 3,
   "id": "e48ba461-e389-4370-803b-99af99f16dbb",
   "metadata": {},
   "outputs": [],
   "source": [
    "# Drop the unnecessary columns\n",
    "solar = solar[[\"Country\",\"Project Name\",\"Capacity (MW)\",\"Status\",\"Start year\",\"Retired year\", \"Latitude\", \"Longitude\"]]"
   ]
  },
  {
   "cell_type": "code",
   "execution_count": 4,
   "id": "3c51ad4a-7c02-445b-8c6f-1837b12de51d",
   "metadata": {},
   "outputs": [],
   "source": [
    "solar.columns = solar.columns.str.lower()"
   ]
  },
  {
   "cell_type": "code",
   "execution_count": 5,
   "id": "ae401694-c453-4a6f-8354-f3059f0f6316",
   "metadata": {
    "tags": []
   },
   "outputs": [],
   "source": [
    "solar.rename(columns={\"project name\":\"plant_name\",\"capacity (mw)\":\"capacity\", \"start year\":\"start_year\", \"retired year\":\"retired_year\"}, inplace=True)"
   ]
  },
  {
   "cell_type": "code",
   "execution_count": 6,
   "id": "3d178c83-f73d-46f4-9bfc-5b96af2cb0d3",
   "metadata": {},
   "outputs": [
    {
     "name": "stdout",
     "output_type": "stream",
     "text": [
      "<class 'pandas.core.frame.DataFrame'>\n",
      "RangeIndex: 9331 entries, 0 to 9330\n",
      "Data columns (total 8 columns):\n",
      " #   Column        Non-Null Count  Dtype  \n",
      "---  ------        --------------  -----  \n",
      " 0   country       9331 non-null   object \n",
      " 1   plant_name    9331 non-null   object \n",
      " 2   capacity      9331 non-null   int64  \n",
      " 3   status        9331 non-null   object \n",
      " 4   start_year    6326 non-null   float64\n",
      " 5   retired_year  5 non-null      float64\n",
      " 6   latitude      9331 non-null   float64\n",
      " 7   longitude     9331 non-null   float64\n",
      "dtypes: float64(4), int64(1), object(3)\n",
      "memory usage: 583.3+ KB\n"
     ]
    }
   ],
   "source": [
    "solar.info()"
   ]
  },
  {
   "cell_type": "markdown",
   "id": "1d7fefb1-e0ac-46bf-85b8-b8a883ba37e5",
   "metadata": {},
   "source": [
    "Keep only active plants >>"
   ]
  },
  {
   "cell_type": "code",
   "execution_count": 7,
   "id": "e8f5b711-a6fb-4a09-92a0-c646be0aac31",
   "metadata": {},
   "outputs": [],
   "source": [
    "legit_status = [\"operating\",\"construction\",\"retired\",\"mothballed\"]\n",
    "\n",
    "data_s = solar.copy()\n",
    "data_s = data_s.query(\"status in @legit_status\")"
   ]
  },
  {
   "cell_type": "markdown",
   "id": "86e7e233-b3d0-4cec-ac0f-1424ee39e753",
   "metadata": {},
   "source": [
    "Fill missing values with the mean >>"
   ]
  },
  {
   "cell_type": "code",
   "execution_count": 8,
   "id": "68f8f0d1-46e2-4e1c-86d8-4200122edbbf",
   "metadata": {},
   "outputs": [],
   "source": [
    "data_s.start_year.fillna(data_s.start_year.mean(), inplace=True)\n",
    "\n",
    "# Store year numbers as integers\n",
    "data_s.start_year = data_s.start_year.astype(int)"
   ]
  },
  {
   "cell_type": "code",
   "execution_count": 9,
   "id": "b4db1376-aedb-43f4-a171-e82a7784223e",
   "metadata": {},
   "outputs": [],
   "source": [
    "data_s[\"plant_type\"] = \"solar\""
   ]
  },
  {
   "cell_type": "code",
   "execution_count": 10,
   "id": "d5fec2b8-455e-4190-8aa8-3cfa8539984e",
   "metadata": {},
   "outputs": [
    {
     "name": "stdout",
     "output_type": "stream",
     "text": [
      "<class 'pandas.core.frame.DataFrame'>\n",
      "Int64Index: 5771 entries, 0 to 9330\n",
      "Data columns (total 9 columns):\n",
      " #   Column        Non-Null Count  Dtype  \n",
      "---  ------        --------------  -----  \n",
      " 0   country       5771 non-null   object \n",
      " 1   plant_name    5771 non-null   object \n",
      " 2   capacity      5771 non-null   int64  \n",
      " 3   status        5771 non-null   object \n",
      " 4   start_year    5771 non-null   int64  \n",
      " 5   retired_year  0 non-null      float64\n",
      " 6   latitude      5771 non-null   float64\n",
      " 7   longitude     5771 non-null   float64\n",
      " 8   plant_type    5771 non-null   object \n",
      "dtypes: float64(3), int64(2), object(4)\n",
      "memory usage: 450.9+ KB\n"
     ]
    }
   ],
   "source": [
    "data_s.info()"
   ]
  },
  {
   "cell_type": "markdown",
   "id": "fc178b8c-d044-4b2a-86e4-54bf4f67b626",
   "metadata": {
    "tags": []
   },
   "source": [
    "### Wind"
   ]
  },
  {
   "cell_type": "code",
   "execution_count": 11,
   "id": "036794e3-7b7f-4d41-9b77-16d9b3b3693b",
   "metadata": {},
   "outputs": [],
   "source": [
    "# Drop the unnecessary columns\n",
    "wind = wind[[\"Country\",\"Project Name\",\"Capacity (MW)\",\"Status\",\"Start year\",\"Retired year\", \"Latitude\", \"Longitude\"]]"
   ]
  },
  {
   "cell_type": "code",
   "execution_count": 12,
   "id": "b4588349-5d14-4753-8a32-d72c92ac1034",
   "metadata": {},
   "outputs": [],
   "source": [
    "wind.columns = wind.columns.str.lower()"
   ]
  },
  {
   "cell_type": "code",
   "execution_count": 13,
   "id": "eaacc261-a365-404f-90b5-1024646b25b5",
   "metadata": {},
   "outputs": [],
   "source": [
    "wind.rename(columns={\"project name\":\"plant_name\",\"capacity (mw)\":\"capacity\", \"start year\":\"start_year\", \"retired year\":\"retired_year\"}, inplace=True)"
   ]
  },
  {
   "cell_type": "code",
   "execution_count": 14,
   "id": "1a2b28b9-ba20-4bc5-a78e-5b1f239db76d",
   "metadata": {},
   "outputs": [
    {
     "name": "stdout",
     "output_type": "stream",
     "text": [
      "<class 'pandas.core.frame.DataFrame'>\n",
      "RangeIndex: 20191 entries, 0 to 20190\n",
      "Data columns (total 8 columns):\n",
      " #   Column        Non-Null Count  Dtype  \n",
      "---  ------        --------------  -----  \n",
      " 0   country       20191 non-null  object \n",
      " 1   plant_name    20191 non-null  object \n",
      " 2   capacity      20191 non-null  int64  \n",
      " 3   status        20191 non-null  object \n",
      " 4   start_year    14450 non-null  float64\n",
      " 5   retired_year  142 non-null    float64\n",
      " 6   latitude      20191 non-null  float64\n",
      " 7   longitude     20191 non-null  float64\n",
      "dtypes: float64(4), int64(1), object(3)\n",
      "memory usage: 1.2+ MB\n"
     ]
    }
   ],
   "source": [
    "wind.info()"
   ]
  },
  {
   "cell_type": "code",
   "execution_count": 15,
   "id": "2a5e6ec0-fb7d-491a-b3a8-60cb0b648ff1",
   "metadata": {},
   "outputs": [],
   "source": [
    "data_w = wind.copy()\n",
    "data_w = data_w.query(\"status in @legit_status\")"
   ]
  },
  {
   "cell_type": "code",
   "execution_count": 16,
   "id": "33e9d8b1-98a2-4b1b-8ce2-f515d9594ce8",
   "metadata": {},
   "outputs": [
    {
     "name": "stdout",
     "output_type": "stream",
     "text": [
      "<class 'pandas.core.frame.DataFrame'>\n",
      "Int64Index: 14335 entries, 0 to 20190\n",
      "Data columns (total 8 columns):\n",
      " #   Column        Non-Null Count  Dtype  \n",
      "---  ------        --------------  -----  \n",
      " 0   country       14335 non-null  object \n",
      " 1   plant_name    14335 non-null  object \n",
      " 2   capacity      14335 non-null  int64  \n",
      " 3   status        14335 non-null  object \n",
      " 4   start_year    13198 non-null  float64\n",
      " 5   retired_year  142 non-null    float64\n",
      " 6   latitude      14335 non-null  float64\n",
      " 7   longitude     14335 non-null  float64\n",
      "dtypes: float64(4), int64(1), object(3)\n",
      "memory usage: 1007.9+ KB\n"
     ]
    }
   ],
   "source": [
    "data_w.info()"
   ]
  },
  {
   "cell_type": "code",
   "execution_count": 17,
   "id": "5fba9447-76fa-4316-b2a3-1b788e961ec9",
   "metadata": {},
   "outputs": [],
   "source": [
    "data_w.start_year.fillna(data_w.start_year.mean(), inplace=True)\n",
    "\n",
    "# Store year numbers as integers\n",
    "data_w.start_year = data_w.start_year.astype(int)"
   ]
  },
  {
   "cell_type": "code",
   "execution_count": 18,
   "id": "bf8923df-46e2-467a-9f2f-4f90596d7871",
   "metadata": {},
   "outputs": [],
   "source": [
    "data_w[\"plant_type\"] = \"wind\""
   ]
  },
  {
   "cell_type": "code",
   "execution_count": 19,
   "id": "db7d84e6-9126-470b-96c9-95d991231f95",
   "metadata": {},
   "outputs": [
    {
     "name": "stdout",
     "output_type": "stream",
     "text": [
      "<class 'pandas.core.frame.DataFrame'>\n",
      "Int64Index: 14335 entries, 0 to 20190\n",
      "Data columns (total 9 columns):\n",
      " #   Column        Non-Null Count  Dtype  \n",
      "---  ------        --------------  -----  \n",
      " 0   country       14335 non-null  object \n",
      " 1   plant_name    14335 non-null  object \n",
      " 2   capacity      14335 non-null  int64  \n",
      " 3   status        14335 non-null  object \n",
      " 4   start_year    14335 non-null  int64  \n",
      " 5   retired_year  142 non-null    float64\n",
      " 6   latitude      14335 non-null  float64\n",
      " 7   longitude     14335 non-null  float64\n",
      " 8   plant_type    14335 non-null  object \n",
      "dtypes: float64(3), int64(2), object(4)\n",
      "memory usage: 1.1+ MB\n"
     ]
    }
   ],
   "source": [
    "data_w.info()"
   ]
  },
  {
   "cell_type": "markdown",
   "id": "b091dfc1-c481-4aba-babb-9475762fdb7d",
   "metadata": {
    "tags": []
   },
   "source": [
    "### Gas"
   ]
  },
  {
   "cell_type": "code",
   "execution_count": 20,
   "id": "e973ac48-6ccc-4a18-9865-1f5d841ff88e",
   "metadata": {},
   "outputs": [],
   "source": [
    "gas = gas[[\"Country\",\"Plant name\",\"Capacity elec. (MW)\",\"Status\",\"Start year\",\"Retired year\", \"Latitude\", \"Longitude\"]]"
   ]
  },
  {
   "cell_type": "code",
   "execution_count": 21,
   "id": "c1b3c794-8ed0-4102-8a90-acba9d4a282a",
   "metadata": {},
   "outputs": [],
   "source": [
    "gas.columns = gas.columns.str.lower()"
   ]
  },
  {
   "cell_type": "code",
   "execution_count": 22,
   "id": "8a58d940-777d-4eb4-90f0-0ebc427e240a",
   "metadata": {},
   "outputs": [
    {
     "data": {
      "text/plain": [
       "Index(['country', 'plant name', 'capacity elec. (mw)', 'status', 'start year',\n",
       "       'retired year', 'latitude', 'longitude'],\n",
       "      dtype='object')"
      ]
     },
     "execution_count": 22,
     "metadata": {},
     "output_type": "execute_result"
    }
   ],
   "source": [
    "gas.columns"
   ]
  },
  {
   "cell_type": "code",
   "execution_count": 23,
   "id": "46046ae2-4bbb-4ea3-b2db-883c66d652fc",
   "metadata": {},
   "outputs": [],
   "source": [
    "gas.rename(columns={\"plant name\":\"plant_name\",\"capacity elec. (mw)\":\"capacity\", \"start year\":\"start_year\", \"retired year\":\"retired_year\"}, inplace=True)"
   ]
  },
  {
   "cell_type": "code",
   "execution_count": 24,
   "id": "6a89c27d-5bcc-44bf-b3be-4dbbfe58db9c",
   "metadata": {},
   "outputs": [],
   "source": [
    "def start_year(string):\n",
    "    pattern_1 = \"[0-9]{2,4}\"\n",
    "    pattern_2 = \"[0-9]{2,4}$\"\n",
    "    search_1 = re.match(pattern_1, str(string))\n",
    "    search_2 = re.search(pattern_2, str(string))\n",
    "    try:\n",
    "        first = search_1.group(0)\n",
    "        second = search_2.group(0)\n",
    "        if len(second) < 4:\n",
    "            result = first[:2] + second\n",
    "            return result\n",
    "        else:\n",
    "            return first\n",
    "    except:\n",
    "        return None"
   ]
  },
  {
   "cell_type": "code",
   "execution_count": 25,
   "id": "e34a9678-6615-4710-9310-2296010f9ce0",
   "metadata": {},
   "outputs": [],
   "source": [
    "gas[\"start_year\"] = gas[\"start_year\"].apply(start_year)"
   ]
  },
  {
   "cell_type": "code",
   "execution_count": 26,
   "id": "acbe47fc-2f82-4dc4-94d7-e9267d792938",
   "metadata": {},
   "outputs": [],
   "source": [
    "mean_gas_started_year = round(gas[gas.start_year.notnull()].start_year.astype(int).mean())\n",
    "\n",
    "gas[\"start_year\"].fillna(mean_gas_started_year, inplace=True)\n",
    "\n",
    "gas[\"start_year\"] = gas[\"start_year\"].astype(int)"
   ]
  },
  {
   "cell_type": "code",
   "execution_count": 27,
   "id": "b3daba71-035a-49fd-900b-f1149f5012ce",
   "metadata": {},
   "outputs": [],
   "source": [
    "def remove_comma(string):\n",
    "    return re.sub(\"[^\\d]\", \"\", str(string))"
   ]
  },
  {
   "cell_type": "code",
   "execution_count": 28,
   "id": "db3a71d2-ca1d-4ae6-a944-87728c6acd96",
   "metadata": {},
   "outputs": [],
   "source": [
    "gas.capacity = gas.capacity.apply(remove_comma)\n",
    "\n",
    "gas = gas[gas.capacity != \"\"]\n",
    "\n",
    "gas.capacity = gas.capacity.astype(int)"
   ]
  },
  {
   "cell_type": "code",
   "execution_count": 29,
   "id": "c6eb9dda-e09f-4335-aab8-23a50d09f191",
   "metadata": {},
   "outputs": [
    {
     "data": {
      "text/plain": [
       "array(['operating', 'mothballed', 'cancelled', 'construction',\n",
       "       'announced', 'shelved', 'pre-construction', 'retired'],\n",
       "      dtype=object)"
      ]
     },
     "execution_count": 29,
     "metadata": {},
     "output_type": "execute_result"
    }
   ],
   "source": [
    "gas.status.unique()"
   ]
  },
  {
   "cell_type": "code",
   "execution_count": 30,
   "id": "81b5c82b-d1c5-4487-890f-78bc13e534fd",
   "metadata": {},
   "outputs": [],
   "source": [
    "data_g = gas.copy()\n",
    "data_g = data_g.query(\"status in @legit_status\")"
   ]
  },
  {
   "cell_type": "code",
   "execution_count": 31,
   "id": "6dc06215-ce5f-4838-bd8c-d379a405c893",
   "metadata": {},
   "outputs": [],
   "source": [
    "data_g.retired_year = pd.to_numeric(data_g.retired_year, errors=\"coerce\")"
   ]
  },
  {
   "cell_type": "code",
   "execution_count": 32,
   "id": "c62f0533-487d-4125-82fe-3955bb8378ef",
   "metadata": {},
   "outputs": [],
   "source": [
    "data_g[\"plant_type\"] = \"gas\""
   ]
  },
  {
   "cell_type": "code",
   "execution_count": 33,
   "id": "c30f9312-e4d8-43c3-8c92-aa79b1feae05",
   "metadata": {},
   "outputs": [
    {
     "name": "stdout",
     "output_type": "stream",
     "text": [
      "<class 'pandas.core.frame.DataFrame'>\n",
      "Int64Index: 8100 entries, 0 to 9563\n",
      "Data columns (total 9 columns):\n",
      " #   Column        Non-Null Count  Dtype  \n",
      "---  ------        --------------  -----  \n",
      " 0   country       8100 non-null   object \n",
      " 1   plant_name    8100 non-null   object \n",
      " 2   capacity      8100 non-null   int64  \n",
      " 3   status        8100 non-null   object \n",
      " 4   start_year    8100 non-null   int64  \n",
      " 5   retired_year  82 non-null     float64\n",
      " 6   latitude      8100 non-null   float64\n",
      " 7   longitude     8100 non-null   float64\n",
      " 8   plant_type    8100 non-null   object \n",
      "dtypes: float64(3), int64(2), object(4)\n",
      "memory usage: 632.8+ KB\n"
     ]
    }
   ],
   "source": [
    "data_g.info()"
   ]
  },
  {
   "cell_type": "markdown",
   "id": "630b91dc-4f5d-4f5c-9d4f-1cac0268bde8",
   "metadata": {
    "tags": []
   },
   "source": [
    "### Coal"
   ]
  },
  {
   "cell_type": "code",
   "execution_count": 34,
   "id": "e1fa2998-5fde-48de-9550-fbcf9ca11232",
   "metadata": {},
   "outputs": [],
   "source": [
    "coal = coal[[\"Country\",\"Plant\",\"Capacity (MW)\",\"Status\",\"Year\",\"RETIRED\", \"Latitude\", \"Longitude\"]]"
   ]
  },
  {
   "cell_type": "code",
   "execution_count": 35,
   "id": "80f8bcf8-fe95-4e12-ac2d-24ea732c9c44",
   "metadata": {},
   "outputs": [],
   "source": [
    "coal.columns = coal.columns.str.lower()"
   ]
  },
  {
   "cell_type": "code",
   "execution_count": 36,
   "id": "6d6350c1-5ccb-46ba-ac43-9e2bb795ad2f",
   "metadata": {},
   "outputs": [],
   "source": [
    "coal.rename(columns={\"plant\":\"plant_name\",\"capacity (mw)\":\"capacity\", \"year\":\"start_year\", \"retired\":\"retired_year\"}, inplace=True)"
   ]
  },
  {
   "cell_type": "code",
   "execution_count": 37,
   "id": "99785bb9-968f-413b-bed8-3efb4b998202",
   "metadata": {},
   "outputs": [
    {
     "name": "stdout",
     "output_type": "stream",
     "text": [
      "<class 'pandas.core.frame.DataFrame'>\n",
      "RangeIndex: 13491 entries, 0 to 13490\n",
      "Data columns (total 8 columns):\n",
      " #   Column        Non-Null Count  Dtype  \n",
      "---  ------        --------------  -----  \n",
      " 0   country       13491 non-null  object \n",
      " 1   plant_name    13491 non-null  object \n",
      " 2   capacity      13491 non-null  float64\n",
      " 3   status        13491 non-null  object \n",
      " 4   start_year    9862 non-null   object \n",
      " 5   retired_year  2623 non-null   object \n",
      " 6   latitude      13491 non-null  float64\n",
      " 7   longitude     13491 non-null  float64\n",
      "dtypes: float64(3), object(5)\n",
      "memory usage: 843.3+ KB\n"
     ]
    }
   ],
   "source": [
    "coal.info()"
   ]
  },
  {
   "cell_type": "code",
   "execution_count": 38,
   "id": "d444828d-930b-442c-8223-a26f8d003db9",
   "metadata": {},
   "outputs": [],
   "source": [
    "data_c = coal.copy()\n",
    "data_c = data_c.query(\"status in @legit_status\")"
   ]
  },
  {
   "cell_type": "code",
   "execution_count": 39,
   "id": "fe14ba9a-133e-4603-be3a-7a353c3e5d07",
   "metadata": {},
   "outputs": [],
   "source": [
    "def start_year_2(string):\n",
    "    pattern = \"[0-9]{2,4}\"\n",
    "    match = re.match(pattern, str(string))\n",
    "    try:\n",
    "        return match.group(0)\n",
    "    except:\n",
    "        return None"
   ]
  },
  {
   "cell_type": "code",
   "execution_count": 40,
   "id": "51746b8e-a15a-484f-966d-1ccd900e09eb",
   "metadata": {},
   "outputs": [],
   "source": [
    "data_c.start_year = data_c.start_year.apply(start_year_2)"
   ]
  },
  {
   "cell_type": "code",
   "execution_count": 41,
   "id": "9e27c1ae-95b1-45b4-b73a-ae4ceaab85e3",
   "metadata": {},
   "outputs": [],
   "source": [
    "mean_coal_started_year = round(data_c[data_c.start_year.notnull()].start_year.astype(int).mean())\n",
    "\n",
    "data_c[\"start_year\"].fillna(mean_coal_started_year, inplace=True)\n",
    "\n",
    "data_c[[\"start_year\",\"capacity\"]] = data_c[[\"start_year\",\"capacity\"]].astype(int)"
   ]
  },
  {
   "cell_type": "code",
   "execution_count": 42,
   "id": "765ed3a3-41b9-4e95-8bca-dd17957b8145",
   "metadata": {},
   "outputs": [],
   "source": [
    "data_c[\"plant_type\"] = \"coal\""
   ]
  },
  {
   "cell_type": "code",
   "execution_count": 43,
   "id": "8b855e22-4538-437b-8122-58c9dd181fc1",
   "metadata": {},
   "outputs": [
    {
     "name": "stdout",
     "output_type": "stream",
     "text": [
      "<class 'pandas.core.frame.DataFrame'>\n",
      "Int64Index: 9747 entries, 16 to 13490\n",
      "Data columns (total 9 columns):\n",
      " #   Column        Non-Null Count  Dtype  \n",
      "---  ------        --------------  -----  \n",
      " 0   country       9747 non-null   object \n",
      " 1   plant_name    9747 non-null   object \n",
      " 2   capacity      9747 non-null   int64  \n",
      " 3   status        9747 non-null   object \n",
      " 4   start_year    9747 non-null   int64  \n",
      " 5   retired_year  2623 non-null   object \n",
      " 6   latitude      9747 non-null   float64\n",
      " 7   longitude     9747 non-null   float64\n",
      " 8   plant_type    9747 non-null   object \n",
      "dtypes: float64(2), int64(2), object(5)\n",
      "memory usage: 761.5+ KB\n"
     ]
    }
   ],
   "source": [
    "data_c.info()"
   ]
  },
  {
   "cell_type": "markdown",
   "id": "10ddc0cc-53fe-4a79-bb55-d2cde5a34985",
   "metadata": {
    "tags": []
   },
   "source": [
    "### Creating a master dataset"
   ]
  },
  {
   "cell_type": "code",
   "execution_count": 44,
   "id": "24ace289-966c-4691-8736-1765b81c1fef",
   "metadata": {},
   "outputs": [],
   "source": [
    "datasets = [data_s, data_w, data_g, data_c]\n",
    "\n",
    "data = pd.concat(datasets)\n",
    "\n",
    "# Fill in the None ritered_year with an infinite value\n",
    "data.retired_year.fillna(np.inf, inplace=True)\n",
    "\n",
    "data.retired_year = pd.to_numeric(data.retired_year, errors='coerce')"
   ]
  },
  {
   "cell_type": "code",
   "execution_count": 45,
   "id": "b3a46f42-1877-4422-9018-6de5df8b2a45",
   "metadata": {},
   "outputs": [],
   "source": [
    "data.country.replace({\"DR Congo\":\"Congo\",\"Republic of the Congo\":\"Congo\", \"Macao \":\"Macao\"}, inplace=True)"
   ]
  },
  {
   "cell_type": "code",
   "execution_count": 46,
   "id": "217d5a09-331b-40cf-b8e4-934f9ccfa78d",
   "metadata": {},
   "outputs": [],
   "source": [
    "import pycountry\n",
    "\n",
    "countries = {}\n",
    "\n",
    "for country in pycountry.countries:\n",
    "    countries[country.name] = country.alpha_3\n",
    "countries[\"Laos\"] = \"LAO\"\n",
    "countries[\"South Korea\"] = \"KOR\"\n",
    "countries[\"Taiwan\"] = \"TWN\"\n",
    "countries[\"Vietnam\"] = \"VNM\"\n",
    "countries[\"Russia\"] = \"RUS\"\n",
    "countries[\"Czech Republic\"] = \"CZE\"\n",
    "countries[\"Holy See\"] = \"Vat\"\n",
    "countries[\"Iran\"] = \"IRN\"\n",
    "countries[\"Syria\"] = \"SYR\"\n",
    "countries[\"Bolivia\"] = \"BOL\"\n",
    "countries[\"Kosovo\"] = \"BGR\"\n",
    "countries[\"Venezuela\"] = \"VEN\"\n",
    "countries[\"Moldova\"] = \"MDA\"\n",
    "countries[\"Tanzania\"] = \"TZA\"\n",
    "countries[\"Palestine\"] = \"PSE\"\n",
    "countries[\"Brunei\"] = \"BRN\"\n",
    "countries[\"North Korea\"] = \"PRK\""
   ]
  },
  {
   "cell_type": "code",
   "execution_count": 47,
   "id": "76026a1f-3fdc-4e8a-a310-b130a5f2c404",
   "metadata": {},
   "outputs": [],
   "source": [
    "def get_iso(string):\n",
    "    return countries[string]"
   ]
  },
  {
   "cell_type": "code",
   "execution_count": 48,
   "id": "29818d22-54c2-4951-90a2-4b8788bea485",
   "metadata": {},
   "outputs": [],
   "source": [
    "data[\"country_iso\"] = data.country.apply(get_iso)"
   ]
  },
  {
   "cell_type": "code",
   "execution_count": 49,
   "id": "f9eb6262-d1ae-4fa6-881a-15b9fe18b070",
   "metadata": {},
   "outputs": [],
   "source": [
    "data.to_csv(\"power_plants_data.csv\")"
   ]
  },
  {
   "cell_type": "markdown",
   "id": "8650d8fc-7a3a-4437-80d6-37d57dd327b2",
   "metadata": {},
   "source": [
    "# **Pivot data for plotting**"
   ]
  },
  {
   "cell_type": "markdown",
   "id": "18e5d4f2-c839-4639-b6f6-673e4efbc8f8",
   "metadata": {},
   "source": [
    "Create a filter for further use >>"
   ]
  },
  {
   "cell_type": "code",
   "execution_count": 50,
   "id": "24bf7d75-dd79-45b4-b973-2470f480ee02",
   "metadata": {},
   "outputs": [],
   "source": [
    "def filtered_data(data=data,year=2022):\n",
    "    return (data[(data.start_year <= year) & (data.retired_year > year)]\n",
    "            .drop_duplicates(subset=[\"plant_name\",\"latitude\",\"longitude\",\"capacity\"], keep='last'))"
   ]
  },
  {
   "cell_type": "markdown",
   "id": "dcc505c4-35e1-4185-8a0e-95a1c8ef34d7",
   "metadata": {
    "tags": []
   },
   "source": [
    "### Total capacity for all time"
   ]
  },
  {
   "cell_type": "code",
   "execution_count": 51,
   "id": "f54be28d-9fd5-4631-9e12-95a4517bae38",
   "metadata": {},
   "outputs": [],
   "source": [
    "countries_capacity = pd.pivot_table(data, index='country_iso', values='capacity', aggfunc=\"sum\")"
   ]
  },
  {
   "cell_type": "code",
   "execution_count": 52,
   "id": "471ba937-ada1-4692-82c1-dffab97eb97e",
   "metadata": {},
   "outputs": [],
   "source": [
    "countries_capacity.to_csv(\"countries_capacity.csv\")"
   ]
  },
  {
   "cell_type": "markdown",
   "id": "bf5862df-e299-41e0-bfa9-2a25218dcd7b",
   "metadata": {},
   "source": [
    "### The state in 2022"
   ]
  },
  {
   "cell_type": "code",
   "execution_count": 53,
   "id": "2a1f39c3-cdb0-4202-af3a-e121d2496cef",
   "metadata": {},
   "outputs": [],
   "source": [
    "shares_2022 = pd.pivot_table(filtered_data(), index=\"plant_type\", values=\"capacity\", aggfunc=[\"sum\",\"count\"]).reset_index()\n",
    "shares_2022.columns = [\"Plant type\",\"Total capacity\",\"Quantity\"]\n",
    "shares_2022.to_csv(\"Final Datasets/shares_2022.csv\")"
   ]
  },
  {
   "cell_type": "markdown",
   "id": "50b3fb0d-de2e-49f0-be3f-11e058c8cff8",
   "metadata": {},
   "source": [
    "Number of countries that use solar and wind-powered plants >>"
   ]
  },
  {
   "cell_type": "code",
   "execution_count": 54,
   "id": "831846a6-b007-4f92-b66b-4cd2b5955f5f",
   "metadata": {},
   "outputs": [
    {
     "data": {
      "text/plain": [
       "142"
      ]
     },
     "execution_count": 54,
     "metadata": {},
     "output_type": "execute_result"
    }
   ],
   "source": [
    "filtered_data().query(\"plant_type == 'wind' or plant_type == 'solar'\").country.nunique()"
   ]
  },
  {
   "cell_type": "markdown",
   "id": "8b90a27e-945e-42cd-91df-15212ef13cf6",
   "metadata": {},
   "source": [
    "Number of countries that use gas and coal-powered plants >>"
   ]
  },
  {
   "cell_type": "code",
   "execution_count": 55,
   "id": "fd4c5dd5-4df9-4918-ab04-9c18a91901bf",
   "metadata": {},
   "outputs": [
    {
     "data": {
      "text/plain": [
       "128"
      ]
     },
     "execution_count": 55,
     "metadata": {},
     "output_type": "execute_result"
    }
   ],
   "source": [
    "filtered_data().query(\"plant_type == 'coal' or plant_type == 'gas'\").country.nunique()"
   ]
  },
  {
   "cell_type": "markdown",
   "id": "74d621ff-f2f3-45d3-ba2d-cc1ae20167ab",
   "metadata": {
    "tags": []
   },
   "source": [
    "### Capacity dynamics"
   ]
  },
  {
   "cell_type": "code",
   "execution_count": 56,
   "id": "1ec580d3-6896-4d70-a348-d3edfe50d8d4",
   "metadata": {},
   "outputs": [],
   "source": [
    "min_year = data['start_year'].min()\n",
    "max_year = 2022"
   ]
  },
  {
   "cell_type": "code",
   "execution_count": 57,
   "id": "c275743d-f7ea-4aa3-b942-5154b6ec621b",
   "metadata": {},
   "outputs": [],
   "source": [
    "dictionary = {\n",
    "    \"year\":[],\n",
    "    \"type\":[],\n",
    "    \"quantity\":[],\n",
    "    \"capacity\":[]\n",
    "}\n",
    "\n",
    "for year in range(min_year, max_year, 1):\n",
    "    \n",
    "    for plant_type in data.plant_type.unique():\n",
    "        \n",
    "        dictionary[\"year\"].append(year)\n",
    "        dictionary[\"type\"].append(plant_type)\n",
    "        dictionary[\"quantity\"].append(data[\n",
    "                (data.start_year <= year) & \n",
    "                (data.retired_year > year) & \n",
    "                (data.plant_type == plant_type)].capacity.count())\n",
    "        dictionary[\"capacity\"].append(data[\n",
    "                (data.start_year <= year) & \n",
    "                (data.retired_year > year) & \n",
    "                (data.plant_type == plant_type)].capacity.sum())"
   ]
  },
  {
   "cell_type": "code",
   "execution_count": 58,
   "id": "05eac39e-c5b3-4747-9ccd-46766b45d0d0",
   "metadata": {},
   "outputs": [],
   "source": [
    "dynamics = pd.DataFrame.from_dict(dictionary)"
   ]
  },
  {
   "cell_type": "code",
   "execution_count": 59,
   "id": "b1b01385-2ac9-4f7f-bfc9-cd334d2413b3",
   "metadata": {},
   "outputs": [],
   "source": [
    "dynamics.to_csv(\"Final Datasets/dynamics.csv\")"
   ]
  },
  {
   "cell_type": "code",
   "execution_count": 60,
   "id": "ea861f1a-4491-47c0-a1dd-4d9bccff0985",
   "metadata": {},
   "outputs": [],
   "source": [
    "capacity_dynamics = dynamics.query(\"year > 2010\")\n",
    "\n",
    "capacity_dinamics_solar = capacity_dynamics.query(\"type == 'solar'\")\n",
    "capacity_dinamics_wind = capacity_dynamics.query(\"type == 'wind'\")\n",
    "capacity_dinamics_gas = capacity_dynamics.query(\"type == 'gas'\")\n",
    "capacity_dinamics_coal = capacity_dynamics.query(\"type == 'coal'\")"
   ]
  },
  {
   "cell_type": "code",
   "execution_count": 61,
   "id": "6cc3ef39-8790-4122-89ca-9fba5461cee2",
   "metadata": {},
   "outputs": [],
   "source": [
    "dataframes = [capacity_dinamics_solar,capacity_dinamics_wind,capacity_dinamics_gas,capacity_dinamics_coal]"
   ]
  },
  {
   "cell_type": "code",
   "execution_count": 62,
   "id": "ddb17264-bc3d-45da-82be-97e6de985b88",
   "metadata": {},
   "outputs": [],
   "source": [
    "def trend_extended(dataframe):\n",
    "    slope, intercept, r_value, p_value, std_err = linregress(x=dataframe.year, y=dataframe.capacity)\n",
    "    dataframe['trend'] = slope * dataframe.year + intercept\n",
    "    \n",
    "    if (dataframe.trend.iloc[-2] - dataframe.trend.iloc[-1]) < (dataframe.trend.iloc[-1] - dataframe.trend.iloc[-2]):\n",
    "        step = dataframe.trend.iloc[-2] - dataframe.trend.iloc[-1]\n",
    "    else:\n",
    "        step = - (dataframe.trend.iloc[-2] - dataframe.trend.iloc[-1])\n",
    "    \n",
    "    for year in np.arange(2022, 2032, 1):\n",
    "        dataframe = dataframe.append({\"year\":year, \"type\":dataframe.type.iloc[-1], \"trend\": dataframe.trend.iloc[-1] - step}, ignore_index=True)\n",
    "    return dataframe"
   ]
  },
  {
   "cell_type": "code",
   "execution_count": 63,
   "id": "b1e6c422-9c3f-40c2-affc-a5c2cc2bdd05",
   "metadata": {},
   "outputs": [],
   "source": [
    "capacity_dynamics = pd.concat(\n",
    "    [trend_extended(capacity_dinamics_solar),\n",
    "     trend_extended(capacity_dinamics_wind),\n",
    "     trend_extended(capacity_dinamics_gas),\n",
    "     trend_extended(capacity_dinamics_coal)]\n",
    ")"
   ]
  },
  {
   "cell_type": "code",
   "execution_count": 64,
   "id": "c45e5286-adf3-481b-b395-45444d8e95a7",
   "metadata": {},
   "outputs": [],
   "source": [
    "capacity_dynamics.to_csv(\"Final Datasets/capacity_dynamics.csv\")"
   ]
  },
  {
   "cell_type": "code",
   "execution_count": 65,
   "id": "0131fea0-ce85-491f-b04a-0229019e342c",
   "metadata": {},
   "outputs": [],
   "source": [
    "def trend_extended_numbers(dataframe):\n",
    "    slope, intercept, r_value, p_value, std_err = linregress(x=dataframe.year, y=dataframe.quantity)\n",
    "    dataframe['trend'] = slope * dataframe.year + intercept\n",
    "    \n",
    "    if (dataframe.trend.iloc[-2] - dataframe.trend.iloc[-1]) < (dataframe.trend.iloc[-1] - dataframe.trend.iloc[-2]):\n",
    "        step = dataframe.trend.iloc[-2] - dataframe.trend.iloc[-1]\n",
    "    else:\n",
    "        step = - (dataframe.trend.iloc[-2] - dataframe.trend.iloc[-1])\n",
    "    \n",
    "    for year in np.arange(2022, 2032, 1):\n",
    "        dataframe = dataframe.append({\"year\":year, \"type\":dataframe.type.iloc[-1], \"trend\": dataframe.trend.iloc[-1] - step}, ignore_index=True)\n",
    "    return dataframe"
   ]
  },
  {
   "cell_type": "code",
   "execution_count": 66,
   "id": "da512a99-87af-47c8-b186-8faf77782a5d",
   "metadata": {},
   "outputs": [],
   "source": [
    "numbers_dynamics = pd.concat(\n",
    "    [trend_extended_numbers(capacity_dinamics_solar),\n",
    "     trend_extended_numbers(capacity_dinamics_wind),\n",
    "     trend_extended_numbers(capacity_dinamics_gas),\n",
    "     trend_extended_numbers(capacity_dinamics_coal)]\n",
    ")"
   ]
  },
  {
   "cell_type": "code",
   "execution_count": 67,
   "id": "97ea7701-0e35-4436-81b5-5ade6f3912d9",
   "metadata": {},
   "outputs": [],
   "source": [
    "numbers_dynamics.to_csv(\"Final Datasets/numbers_dynamics.csv\")"
   ]
  },
  {
   "cell_type": "markdown",
   "id": "3115b2bd-f8e5-4ed9-966d-9503fb13a208",
   "metadata": {
    "tags": []
   },
   "source": [
    "### Solar and wind power capacity by countries"
   ]
  },
  {
   "cell_type": "code",
   "execution_count": 68,
   "id": "cddabd00-4aea-42a2-bf2b-b6bcca03d56d",
   "metadata": {},
   "outputs": [],
   "source": [
    "wind_by_country = pd.pivot_table(\n",
    "    filtered_data().query(\"plant_type == 'wind'\"), \n",
    "    index=[\"country\",\"country_iso\"],\n",
    "    values=\"capacity\",\n",
    "    aggfunc=\"sum\"\n",
    ").reset_index()\n",
    "\n",
    "wind_by_country.capacity = np.log(wind_by_country.capacity)"
   ]
  },
  {
   "cell_type": "code",
   "execution_count": 69,
   "id": "af86ed42-c1f0-45e9-ab88-deef6d31f94f",
   "metadata": {},
   "outputs": [],
   "source": [
    "wind_by_country.to_csv(\"Final Datasets/wind_by_country.csv\")"
   ]
  },
  {
   "cell_type": "code",
   "execution_count": 70,
   "id": "68898ab2-b815-408f-8708-770c5495a33e",
   "metadata": {},
   "outputs": [],
   "source": [
    "solar_by_country = pd.pivot_table(\n",
    "    filtered_data().query(\"plant_type == 'solar'\"), \n",
    "    index=[\"country\",\"country_iso\"],\n",
    "    values=\"capacity\",\n",
    "    aggfunc=\"sum\"\n",
    ").reset_index()\n",
    "\n",
    "solar_by_country.capacity = np.log(solar_by_country.capacity)"
   ]
  },
  {
   "cell_type": "code",
   "execution_count": 71,
   "id": "2dd96fbe-bb2f-41b7-93aa-b8f0b01212c4",
   "metadata": {},
   "outputs": [],
   "source": [
    "solar_by_country.to_csv(\"Final Datasets/solar_by_country.csv\")"
   ]
  },
  {
   "cell_type": "markdown",
   "id": "e8b6ae77-cc7f-45aa-a5e8-6f8038b52354",
   "metadata": {
    "tags": []
   },
   "source": [
    "### Solar+wind VS fossil fuel rate"
   ]
  },
  {
   "cell_type": "code",
   "execution_count": 72,
   "id": "0eb5eb4f-5857-4c30-aec3-6329cc10ad2f",
   "metadata": {},
   "outputs": [],
   "source": [
    "green_rate = (pd\n",
    " .pivot_table(filtered_data(), index=\"country\", values=\"capacity\", columns=\"plant_type\", aggfunc=\"sum\")\n",
    " .reset_index()\n",
    " .fillna(0)\n",
    ")"
   ]
  },
  {
   "cell_type": "code",
   "execution_count": 73,
   "id": "103ed3f1-e660-49f3-a57f-a11267808a28",
   "metadata": {},
   "outputs": [],
   "source": [
    "def get_green_rate(data):\n",
    "    fossil = data[\"coal\"] + data[\"gas\"]\n",
    "    green = data[\"solar\"] + data[\"wind\"]\n",
    "            \n",
    "    if (fossil > 0) & (green > 0):\n",
    "        return green / fossil\n",
    "    elif (fossil == 0) & (green > 0):\n",
    "        return 1\n",
    "    else:\n",
    "        return 0"
   ]
  },
  {
   "cell_type": "code",
   "execution_count": 74,
   "id": "fcdf64a2-d616-4645-aaf6-17b40523983a",
   "metadata": {},
   "outputs": [],
   "source": [
    "green_rate[\"rate\"] = green_rate.apply(get_green_rate, axis=1)"
   ]
  },
  {
   "cell_type": "code",
   "execution_count": 75,
   "id": "1bc2a761-13c8-43e3-80f8-a2f0d2d81b67",
   "metadata": {},
   "outputs": [],
   "source": [
    "green_top_10 = green_rate.sort_values(by=\"rate\", ascending=False).head(10)"
   ]
  },
  {
   "cell_type": "code",
   "execution_count": 76,
   "id": "9b57d2ec-cb1b-4495-bbac-262edc834e7e",
   "metadata": {},
   "outputs": [],
   "source": [
    "green_top_10.to_csv(\"Final Datasets/green_top_10.csv\")"
   ]
  },
  {
   "cell_type": "markdown",
   "id": "d80e787e-c43a-4db4-8ff9-93544eedca2f",
   "metadata": {},
   "source": [
    "### Plants' location"
   ]
  },
  {
   "cell_type": "code",
   "execution_count": 77,
   "id": "2cdb90d9-e449-45b6-830f-11a0ad317099",
   "metadata": {},
   "outputs": [],
   "source": [
    "(pd\n",
    " .pivot_table(filtered_data().query(\"plant_type == 'solar'\"), index=['plant_type','plant_name','latitude','longitude'], values=\"capacity\", aggfunc=\"sum\")\n",
    " .reset_index()\n",
    " .to_csv(\"Final Datasets/solar_plants_location.csv\")\n",
    ")"
   ]
  },
  {
   "cell_type": "code",
   "execution_count": 78,
   "id": "e65334d7-faa2-4e57-836a-cbcfe8adf04d",
   "metadata": {},
   "outputs": [],
   "source": [
    "# wind_plants_location = (pd\n",
    "#  .pivot_table(filtered_data().query(\"plant_type == 'wind'\"), index=['plant_type','plant_name','latitude','longitude'], values=\"capacity\", aggfunc=\"sum\")\n",
    "#  .reset_index()\n",
    "# )"
   ]
  },
  {
   "cell_type": "markdown",
   "id": "0e482d37-223d-42ce-8b58-9fc4dc6c3da4",
   "metadata": {
    "tags": []
   },
   "source": [
    "### Capacity vs population"
   ]
  },
  {
   "cell_type": "code",
   "execution_count": 79,
   "id": "7ecc42d5-79de-4360-bd3c-0375d8bce582",
   "metadata": {},
   "outputs": [],
   "source": [
    "current_capacity = pd.pivot_table(filtered_data(), index=[\"country\",\"country_iso\"], values=\"capacity\", aggfunc=\"sum\").reset_index()"
   ]
  },
  {
   "cell_type": "code",
   "execution_count": 80,
   "id": "da1f09c2-8159-4e51-9d3c-9edaf62c57d6",
   "metadata": {},
   "outputs": [],
   "source": [
    "population_data = pd.read_csv(\"population_data.csv\")\n",
    "\n",
    "population_data = population_data[[\"Country (or dependency)\",\"Population (2020)\"]]\n",
    "\n",
    "population_data.columns = ['country', 'population']"
   ]
  },
  {
   "cell_type": "code",
   "execution_count": 81,
   "id": "1d1e5aa8-bd63-4509-ac21-eaf09676c667",
   "metadata": {},
   "outputs": [],
   "source": [
    "capacity_vs_population = current_capacity.merge(population_data, how='left')"
   ]
  },
  {
   "cell_type": "code",
   "execution_count": 82,
   "id": "6fe78b2b-7874-4b57-81c3-c4abc6b915c7",
   "metadata": {},
   "outputs": [],
   "source": [
    "capacity_vs_population.loc[16, 'population'] = 25987\n",
    "capacity_vs_population.loc[36, 'population'] = 10700000\n",
    "capacity_vs_population.loc[46, 'population'] = 48865\n",
    "capacity_vs_population.loc[74, 'population'] = 1873000\n",
    "capacity_vs_population.loc[112, 'population'] = 4803000\n",
    "capacity_vs_population.loc[122, 'population'] = 53192\n",
    "capacity_vs_population.loc[161, 'population'] = 29789"
   ]
  },
  {
   "cell_type": "code",
   "execution_count": 83,
   "id": "3ae8289c-3eaf-4526-b1fd-e3b74112cc4f",
   "metadata": {},
   "outputs": [],
   "source": [
    "capacity_vs_population[\"score\"] = capacity_vs_population[\"capacity\"] / capacity_vs_population[\"population\"] "
   ]
  },
  {
   "cell_type": "code",
   "execution_count": 84,
   "id": "99e1669f-6c49-4f45-b312-58ae0d0cb6f8",
   "metadata": {},
   "outputs": [
    {
     "data": {
      "text/plain": [
       "0.051050521413267096"
      ]
     },
     "execution_count": 84,
     "metadata": {},
     "output_type": "execute_result"
    }
   ],
   "source": [
    "capacity_vs_population[\"score\"].quantile(0.99)"
   ]
  },
  {
   "cell_type": "code",
   "execution_count": 85,
   "id": "88550544-51ac-47b8-baf2-652ab93a9827",
   "metadata": {},
   "outputs": [],
   "source": [
    "capacity_vs_population[\"score\"] = np.clip(capacity_vs_population[\"score\"], 0, 0.051)\n",
    "\n",
    "capacity_vs_population[\"score\"] = np.log(capacity_vs_population[\"score\"])"
   ]
  },
  {
   "cell_type": "code",
   "execution_count": 86,
   "id": "05c20b91-4563-4b60-8168-2bcf4183fdb9",
   "metadata": {},
   "outputs": [],
   "source": [
    "capacity_vs_population[\"score\"] = (capacity_vs_population[\"score\"] - capacity_vs_population[\"score\"].min()) / (capacity_vs_population[\"score\"].max() - capacity_vs_population[\"score\"].min())"
   ]
  },
  {
   "cell_type": "code",
   "execution_count": 87,
   "id": "d14eb2c6-ac55-45c6-9cab-fa7259e4367b",
   "metadata": {},
   "outputs": [],
   "source": [
    "capacity_vs_population.to_csv(\"Final Datasets/capacity_vs_population.csv\")"
   ]
  },
  {
   "cell_type": "code",
   "execution_count": 88,
   "id": "419e5d4d-db3f-4c08-ab86-53ee8092ca5e",
   "metadata": {},
   "outputs": [
    {
     "data": {
      "text/plain": [
       "<AxesSubplot:>"
      ]
     },
     "execution_count": 88,
     "metadata": {},
     "output_type": "execute_result"
    },
    {
     "data": {
      "image/png": "[encoded data removed]",
      "text/plain": [
       "<Figure size 432x288 with 1 Axes>"
      ]
     },
     "metadata": {
      "needs_background": "light"
     },
     "output_type": "display_data"
    }
   ],
   "source": [
    "capacity_vs_population[\"score\"].hist()"
   ]
  }
 ],
 "metadata": {
  "kernelspec": {
   "display_name": "Python 3 (ipykernel)",
   "language": "python",
   "name": "python3"
  },
  "language_info": {
   "codemirror_mode": {
    "name": "ipython",
    "version": 3
   },
   "file_extension": ".py",
   "mimetype": "text/x-python",
   "name": "python",
   "nbconvert_exporter": "python",
   "pygments_lexer": "ipython3",
   "version": "3.9.12"
  }
 },
 "nbformat": 4,
 "nbformat_minor": 5
}
